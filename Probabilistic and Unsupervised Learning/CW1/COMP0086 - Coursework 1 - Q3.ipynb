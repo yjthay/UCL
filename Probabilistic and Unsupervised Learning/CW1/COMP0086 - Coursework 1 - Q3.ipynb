{
 "cells": [
  {
   "cell_type": "code",
   "execution_count": 1,
   "metadata": {
    "scrolled": true
   },
   "outputs": [
    {
     "data": {
      "text/plain": [
       "(-0.5, 7.5, 7.5, -0.5)"
      ]
     },
     "execution_count": 1,
     "metadata": {},
     "output_type": "execute_result"
    },
    {
     "data": {
      "image/png": "[encoded data removed]",
      "text/plain": [
       "<Figure size 432x288 with 1 Axes>"
      ]
     },
     "metadata": {
      "needs_background": "light"
     },
     "output_type": "display_data"
    }
   ],
   "source": [
    "import numpy as np\n",
    "import scipy.special as sc\n",
    "from matplotlib import pyplot as plt\n",
    "from math import e\n",
    "Y = np.loadtxt('binarydigits.txt')\n",
    "\n",
    "# My code as per below\n",
    "X = Y.T\n",
    "# Create log likelihood function that we will look to maximise (as positive as possible)\n",
    "# This looks to tackle each parameter by itself and look through all the 100 data points of each parameter and then optimise p such as to maximise the log likelihood equation given by sum(ln_prob_bern).  Given this is a binary data set, it is not suitable to use gradient descent unless we use some sort of sigmoid function with it.  Alternatively, we can solve it analytically through the use of Y.sum(axis=0)/100 where we find the mean of each parameter as its maximum likelihood estimator\n",
    "ln_prob_bern = lambda x,p,alpha,beta: x* np.log(p) + (1.0-x)*np.log(1.-p)\n",
    "def iterate_p_for_params(log_likelihood_func,X,alpha=1,beta=1):\n",
    "    output = []\n",
    "    for param in X:\n",
    "        holder = []\n",
    "        for increment in range(1,100):\n",
    "            p = increment/100.0\n",
    "            new = sum(log_likelihood_func(param,p,alpha,beta))\n",
    "            # Initialise the value of p\n",
    "            if not holder:\n",
    "                holder=[new,p]\n",
    "            # Retain the value of p that maximises the function\n",
    "            if new>holder[0]:\n",
    "                holder=[new,p]\n",
    "        output.append(holder)\n",
    "    return output\n",
    "\n",
    "ML = iterate_p_for_params(ln_prob_bern,X)\n",
    "\n",
    "plt.figure()\n",
    "plt.imshow(np.reshape(list(zip(*ML))[1], (8,8)),\n",
    "           interpolation=\"None\",\n",
    "           cmap='gray')\n",
    "plt.axis('off')"
   ]
  },
  {
   "cell_type": "code",
   "execution_count": 2,
   "metadata": {},
   "outputs": [],
   "source": [
    "# Create log likelihood function that we will look to maximise (as positive as possible)\n",
    "ln_prob_bern_beta = lambda x,p,alpha,beta: x* np.log(p) \\\n",
    "+ (1.0-x)*np.log(1.-p) \\\n",
    "- np.log(sc.beta(alpha,beta)) \\\n",
    "+ (alpha-1) * np.log(p) \\\n",
    "+ (beta-1) * np.log(1-p)"
   ]
  },
  {
   "cell_type": "code",
   "execution_count": 18,
   "metadata": {},
   "outputs": [
    {
     "data": {
      "text/plain": [
       "(-0.5, 7.5, 7.5, -0.5)"
      ]
     },
     "execution_count": 18,
     "metadata": {},
     "output_type": "execute_result"
    },
    {
     "data": {
      "image/png": "[encoded data removed]",
      "text/plain": [
       "<Figure size 432x288 with 1 Axes>"
      ]
     },
     "metadata": {
      "needs_background": "light"
     },
     "output_type": "display_data"
    }
   ],
   "source": [
    "MAP = iterate_p_for_params(ln_prob_bern_beta,X,3,3)\n",
    "\n",
    "plt.figure()\n",
    "plt.imshow(np.reshape(list(zip(*MAP))[1], (8,8)),\n",
    "           interpolation=\"None\",\n",
    "           cmap='gray')\n",
    "plt.axis('off')"
   ]
  },
  {
   "cell_type": "code",
   "execution_count": 19,
   "metadata": {
    "scrolled": true
   },
   "outputs": [
    {
     "name": "stdout",
     "output_type": "stream",
     "text": [
      "0.13 0.43 -0.3\n",
      "0.21 0.44 -0.23\n",
      "0.29 0.46 -0.17000000000000004\n",
      "0.43 0.49 -0.06\n",
      "0.64 0.53 0.10999999999999999\n",
      "0.77 0.55 0.21999999999999997\n",
      "0.69 0.54 0.1499999999999999\n",
      "0.5 0.5 0.0\n",
      "0.08 0.42 -0.33999999999999997\n",
      "0.25 0.45 -0.2\n",
      "0.45 0.49 -0.03999999999999998\n",
      "0.64 0.53 0.10999999999999999\n",
      "0.72 0.54 0.17999999999999994\n",
      "0.7 0.54 0.15999999999999992\n",
      "0.79 0.56 0.22999999999999998\n",
      "0.48 0.5 -0.020000000000000018\n",
      "0.13 0.43 -0.3\n",
      "0.3 0.46 -0.16000000000000003\n",
      "0.45 0.49 -0.03999999999999998\n",
      "0.39 0.48 -0.08999999999999997\n",
      "0.27 0.45 -0.18\n",
      "0.25 0.45 -0.2\n",
      "0.5 0.5 0.0\n",
      "0.52 0.5 0.020000000000000018\n",
      "0.19 0.44 -0.25\n",
      "0.45 0.49 -0.03999999999999998\n",
      "0.48 0.5 -0.020000000000000018\n",
      "0.31 0.46 -0.15000000000000002\n",
      "0.29 0.46 -0.17000000000000004\n",
      "0.25 0.45 -0.2\n",
      "0.44 0.49 -0.04999999999999999\n",
      "0.4 0.48 -0.07999999999999996\n",
      "0.32 0.46 -0.14\n",
      "0.39 0.48 -0.08999999999999997\n",
      "0.19 0.44 -0.25\n",
      "0.26 0.45 -0.19\n",
      "0.23 0.45 -0.22\n",
      "0.4 0.48 -0.07999999999999996\n",
      "0.54 0.51 0.030000000000000027\n",
      "0.26 0.45 -0.19\n",
      "0.47 0.49 -0.020000000000000018\n",
      "0.33 0.47 -0.13999999999999996\n",
      "0.13 0.43 -0.3\n",
      "0.14 0.43 -0.29\n",
      "0.28 0.46 -0.18\n",
      "0.44 0.49 -0.04999999999999999\n",
      "0.48 0.5 -0.020000000000000018\n",
      "0.17 0.43 -0.26\n",
      "0.6 0.52 0.07999999999999996\n",
      "0.59 0.52 0.06999999999999995\n",
      "0.35 0.47 -0.12\n",
      "0.44 0.49 -0.04999999999999999\n",
      "0.57 0.51 0.05999999999999994\n",
      "0.52 0.5 0.020000000000000018\n",
      "0.29 0.46 -0.17000000000000004\n",
      "0.04 0.41 -0.37\n",
      "0.28 0.46 -0.18\n",
      "0.66 0.53 0.13\n",
      "0.76 0.55 0.20999999999999996\n",
      "0.77 0.55 0.21999999999999997\n",
      "0.42 0.48 -0.06\n",
      "0.19 0.44 -0.25\n",
      "0.05 0.41 -0.36\n",
      "0.01 0.4 -0.39\n"
     ]
    }
   ],
   "source": [
    "for i,j in zip(list(zip(*ML))[1],list(zip(*MAP))[1]):\n",
    "    print(i,j,i-j)"
   ]
  },
  {
   "cell_type": "code",
   "execution_count": 24,
   "metadata": {},
   "outputs": [],
   "source": [
    "'''\n",
    "For probability of Situation A'''\n",
    "ln_prob_bern_p_fixed = lambda x,p,alpha,beta: x* np.log(p) \\\n",
    "+ (1.0-x)*np.log(1.-p) \\\n",
    "+ np.log(0.5)\n",
    "\n",
    "'''For probability of Situation B'''\n",
    "ln_prob_bern_p_hat = lambda x,p,alpha,beta: x* np.log(p) \\\n",
    "+ (1.0-x)*np.log(1.-p) \\\n",
    "+ x* np.log(alpha)\\\n",
    "+ (1.0-x)*np.log(1.-alpha) \n",
    "\n",
    "'''For probability of Situation C'''\n",
    "ln_prob_bern_p_normal = lambda x,p,p_prior: x* np.log(p) \\\n",
    "+ (1.0-x)*np.log(1.-p) \\\n",
    "+x * np.log(p_prior)\\\n",
    "+ (1.0-x)*np.log(1.-p_prior) \n"
   ]
  },
  {
   "cell_type": "code",
   "execution_count": 27,
   "metadata": {
    "scrolled": true
   },
   "outputs": [
    {
     "name": "stdout",
     "output_type": "stream",
     "text": [
      "0.13 0.13 0.0\n",
      "0.21 0.21 0.0\n",
      "0.29 0.29 0.0\n",
      "0.43 0.43 0.0\n",
      "0.64 0.64 0.0\n",
      "0.77 0.77 0.0\n",
      "0.69 0.69 0.0\n",
      "0.5 0.5 0.0\n",
      "0.08 0.08 0.0\n",
      "0.25 0.25 0.0\n",
      "0.45 0.45 0.0\n",
      "0.64 0.64 0.0\n",
      "0.72 0.72 0.0\n",
      "0.7 0.7 0.0\n",
      "0.79 0.79 0.0\n",
      "0.48 0.48 0.0\n",
      "0.13 0.13 0.0\n",
      "0.3 0.3 0.0\n",
      "0.45 0.45 0.0\n",
      "0.39 0.39 0.0\n",
      "0.27 0.27 0.0\n",
      "0.25 0.25 0.0\n",
      "0.5 0.5 0.0\n",
      "0.52 0.52 0.0\n",
      "0.19 0.19 0.0\n",
      "0.45 0.45 0.0\n",
      "0.48 0.48 0.0\n",
      "0.31 0.31 0.0\n",
      "0.29 0.29 0.0\n",
      "0.25 0.25 0.0\n",
      "0.44 0.44 0.0\n",
      "0.4 0.4 0.0\n",
      "0.32 0.32 0.0\n",
      "0.39 0.39 0.0\n",
      "0.19 0.19 0.0\n",
      "0.26 0.26 0.0\n",
      "0.23 0.23 0.0\n",
      "0.4 0.4 0.0\n",
      "0.54 0.54 0.0\n",
      "0.26 0.26 0.0\n",
      "0.47 0.47 0.0\n",
      "0.33 0.33 0.0\n",
      "0.13 0.13 0.0\n",
      "0.14 0.14 0.0\n",
      "0.28 0.28 0.0\n",
      "0.44 0.44 0.0\n",
      "0.48 0.48 0.0\n",
      "0.17 0.17 0.0\n",
      "0.6 0.6 0.0\n",
      "0.59 0.59 0.0\n",
      "0.35 0.35 0.0\n",
      "0.44 0.44 0.0\n",
      "0.57 0.57 0.0\n",
      "0.52 0.52 0.0\n",
      "0.29 0.29 0.0\n",
      "0.04 0.04 0.0\n",
      "0.28 0.28 0.0\n",
      "0.66 0.66 0.0\n",
      "0.76 0.76 0.0\n",
      "0.77 0.77 0.0\n",
      "0.42 0.42 0.0\n",
      "0.19 0.19 0.0\n",
      "0.05 0.05 0.0\n",
      "0.01 0.01 0.0\n"
     ]
    },
    {
     "name": "stderr",
     "output_type": "stream",
     "text": [
      "C:\\Users\\thayy\\anaconda3\\lib\\site-packages\\ipykernel_launcher.py:16: RuntimeWarning: divide by zero encountered in log\n",
      "  app.launch_new_instance()\n",
      "C:\\Users\\thayy\\anaconda3\\lib\\site-packages\\ipykernel_launcher.py:16: RuntimeWarning: invalid value encountered in multiply\n",
      "  app.launch_new_instance()\n"
     ]
    }
   ],
   "source": [
    "A = iterate_p_for_params(ln_prob_bern_p_fixed,X)\n",
    "B = iterate_p_for_params(ln_prob_bern_p_hat,X,np.random.rand())\n",
    "\n",
    "prior = sum(Y)/100\n",
    "\n",
    "output = []\n",
    "for i, param in enumerate(X):\n",
    "    holder = []\n",
    "    for increment in range(1,100):\n",
    "        p = increment/100.0\n",
    "        new = sum(ln_prob_bern_p_normal(param,p,prior[i]))\n",
    "#         print(new,sum(ln_prob_bern(param,p)))\n",
    "        # Initialise the value of p\n",
    "        if not holder:\n",
    "            holder=[new,p]\n",
    "        # Retain the value of p that maximises the function\n",
    "        if new>holder[0]:\n",
    "            holder=[new,p]\n",
    "    output.append(holder)\n",
    "C = output\n",
    "for i,j in zip(list(zip(*ML))[1],list(zip(*B))[1]):\n",
    "    print(i,j,i-j)"
   ]
  },
  {
   "cell_type": "code",
   "execution_count": 28,
   "metadata": {
    "scrolled": true
   },
   "outputs": [],
   "source": [
    "prob_a = list(zip(*A))[1]\n",
    "prob_b = list(zip(*B))[1]\n",
    "prob_c = list(zip(*C))[1]"
   ]
  },
  {
   "cell_type": "code",
   "execution_count": 29,
   "metadata": {},
   "outputs": [],
   "source": [
    "def ln_prob(weight):\n",
    "    prob=0\n",
    "    for p,x in zip(weight,Y.sum(axis=0)):\n",
    "        prob+= x*np.log(p)+(100-x)*np.log(1-p)\n",
    "    return prob "
   ]
  },
  {
   "cell_type": "code",
   "execution_count": 30,
   "metadata": {},
   "outputs": [
    {
     "name": "stdout",
     "output_type": "stream",
     "text": [
      "The ln prob of Model A,B and C are -3708.06,-3708.06 and -3708.06 respectively\n"
     ]
    }
   ],
   "source": [
    "performance_a = ln_prob(prob_a)\n",
    "performance_b =  ln_prob(prob_b)\n",
    "performance_c =  ln_prob(prob_c)\n",
    "print(\"The ln prob of Model A,B and C are {:.2f},{:.2f} and {:.2f} respectively\".format(performance_a,performance_b,performance_c))"
   ]
  },
  {
   "cell_type": "code",
   "execution_count": 15,
   "metadata": {
    "scrolled": true
   },
   "outputs": [
    {
     "name": "stdout",
     "output_type": "stream",
     "text": [
      "0.13 0.13 0.0\n",
      "0.21 0.21 0.0\n",
      "0.29 0.29 0.0\n",
      "0.43 0.43 0.0\n",
      "0.64 0.64 0.0\n",
      "0.77 0.77 0.0\n",
      "0.69 0.69 0.0\n",
      "0.5 0.5 0.0\n",
      "0.08 0.08 0.0\n",
      "0.25 0.25 0.0\n",
      "0.45 0.45 0.0\n",
      "0.64 0.64 0.0\n",
      "0.72 0.72 0.0\n",
      "0.7 0.7 0.0\n",
      "0.79 0.79 0.0\n",
      "0.48 0.48 0.0\n",
      "0.13 0.13 0.0\n",
      "0.3 0.3 0.0\n",
      "0.45 0.45 0.0\n",
      "0.39 0.39 0.0\n",
      "0.27 0.27 0.0\n",
      "0.25 0.25 0.0\n",
      "0.5 0.5 0.0\n",
      "0.52 0.52 0.0\n",
      "0.19 0.19 0.0\n",
      "0.45 0.45 0.0\n",
      "0.48 0.48 0.0\n",
      "0.31 0.31 0.0\n",
      "0.29 0.29 0.0\n",
      "0.25 0.25 0.0\n",
      "0.44 0.44 0.0\n",
      "0.4 0.4 0.0\n",
      "0.32 0.32 0.0\n",
      "0.39 0.39 0.0\n",
      "0.19 0.19 0.0\n",
      "0.26 0.26 0.0\n",
      "0.23 0.23 0.0\n",
      "0.4 0.4 0.0\n",
      "0.54 0.54 0.0\n",
      "0.26 0.26 0.0\n",
      "0.47 0.47 0.0\n",
      "0.33 0.33 0.0\n",
      "0.13 0.13 0.0\n",
      "0.14 0.14 0.0\n",
      "0.28 0.28 0.0\n",
      "0.44 0.44 0.0\n",
      "0.48 0.48 0.0\n",
      "0.17 0.17 0.0\n",
      "0.6 0.6 0.0\n",
      "0.59 0.59 0.0\n",
      "0.35 0.35 0.0\n",
      "0.44 0.44 0.0\n",
      "0.57 0.57 0.0\n",
      "0.52 0.52 0.0\n",
      "0.29 0.29 0.0\n",
      "0.04 0.04 0.0\n",
      "0.28 0.28 0.0\n",
      "0.66 0.66 0.0\n",
      "0.76 0.76 0.0\n",
      "0.77 0.77 0.0\n",
      "0.42 0.42 0.0\n",
      "0.19 0.19 0.0\n",
      "0.05 0.05 0.0\n",
      "0.01 0.01 0.0\n"
     ]
    }
   ],
   "source": [
    "test = iterate_p_for_params(ln_prob_bern_beta,X,1,1)\n",
    "for i,j in zip(list(zip(*A))[1],list(zip(*test))[1]):\n",
    "    print(i,j,i-j)"
   ]
  },
  {
   "cell_type": "code",
   "execution_count": 59,
   "metadata": {},
   "outputs": [
    {
     "data": {
      "text/plain": [
       "-4436.14195558365"
      ]
     },
     "execution_count": 59,
     "metadata": {},
     "output_type": "execute_result"
    }
   ],
   "source": [
    "total_samples*np.log(0.5)"
   ]
  },
  {
   "cell_type": "code",
   "execution_count": 60,
   "metadata": {},
   "outputs": [
    {
     "data": {
      "text/plain": [
       "-4279.54011522343"
      ]
     },
     "execution_count": 60,
     "metadata": {},
     "output_type": "execute_result"
    }
   ],
   "source": [
    "total_heads = sum(sum(Y))\n",
    "total_samples = Y.shape[0]*Y.shape[1]\n",
    "total_heads*np.log(total_heads/total_samples)+(total_samples-total_heads)*np.log((total_samples-total_heads)/total_samples)"
   ]
  },
  {
   "cell_type": "code",
   "execution_count": 61,
   "metadata": {},
   "outputs": [
    {
     "data": {
      "text/plain": [
       "-3707.0555853455353"
      ]
     },
     "execution_count": 61,
     "metadata": {},
     "output_type": "execute_result"
    }
   ],
   "source": [
    "lg_prob=0\n",
    "for pixel in sum(Y):\n",
    "    if pixel ==0:\n",
    "        continue\n",
    "    lg_prob+=pixel*np.log(pixel/100)+(100-pixel)*np.log(1-(pixel/100))\n",
    "lg_prob"
   ]
  },
  {
   "cell_type": "code",
   "execution_count": 58,
   "metadata": {},
   "outputs": [
    {
     "data": {
      "text/plain": [
       "-3707.0555853455353"
      ]
     },
     "execution_count": 58,
     "metadata": {},
     "output_type": "execute_result"
    }
   ],
   "source": []
  },
  {
   "cell_type": "code",
   "execution_count": null,
   "metadata": {},
   "outputs": [],
   "source": []
  }
 ],
 "metadata": {
  "kernelspec": {
   "display_name": "Python 3",
   "language": "python",
   "name": "python3"
  },
  "language_info": {
   "codemirror_mode": {
    "name": "ipython",
    "version": 3
   },
   "file_extension": ".py",
   "mimetype": "text/x-python",
   "name": "python",
   "nbconvert_exporter": "python",
   "pygments_lexer": "ipython3",
   "version": "3.7.9"
  }
 },
 "nbformat": 4,
 "nbformat_minor": 4
}
